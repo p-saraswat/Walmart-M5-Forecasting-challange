{
 "cells": [
  {
   "cell_type": "markdown",
   "id": "26ce56a1",
   "metadata": {},
   "source": [
    "## Stacking Model"
   ]
  },
  {
   "cell_type": "code",
   "execution_count": 1,
   "id": "5843a34c",
   "metadata": {},
   "outputs": [],
   "source": [
    "import warnings\n",
    "import pickle\n",
    "import random\n",
    "\n",
    "import pandas as pd\n",
    "import numpy as np\n",
    "\n",
    "SEED = 42\n",
    "warnings.filterwarnings(\"ignore\")\n",
    "warnings.simplefilter('ignore')\n",
    "random.seed(SEED)"
   ]
  },
  {
   "cell_type": "markdown",
   "id": "6abfee54",
   "metadata": {},
   "source": [
    "### Data preprocessing"
   ]
  },
  {
   "cell_type": "markdown",
   "id": "56ca7d9c",
   "metadata": {},
   "source": [
    "*Our stacking process consists of the following steps:*\n",
    "1. Use the predictions from all the models we created (light GBM, RNN, XGBoost and ensemble model) as features\n",
    "2. Split the validation and evaluation parts of dataset. As the ground truth for validation part was available in M5 dataset, we added it to the validation part. This process created the training dataset comprising of unit sales prediction from all 7 models as features and ground truth of unit sales as response\n",
    "3. Train this validation dataset using XGBoost and Light GBM\n",
    "4. Predict the values for evaluation part\n",
    "5. Merge the prediction from step 4 with the validation part of the best model outcome we created"
   ]
  },
  {
   "cell_type": "markdown",
   "id": "54be6730",
   "metadata": {},
   "source": [
    "Creating training and testing datasets"
   ]
  },
  {
   "cell_type": "code",
   "execution_count": 2,
   "id": "c1310c19",
   "metadata": {},
   "outputs": [],
   "source": [
    "df1 = pd.read_csv('dept_lgb_pred_v1.csv')\n",
    "df2 = pd.read_csv('ensemble_v7.csv')\n",
    "df3 = pd.read_csv('GRU_v3.csv')\n",
    "df4 = pd.read_csv('state_cat_lgb_pred_v1.csv')\n",
    "df5 = pd.read_csv('store_cat_lgb_pred_v1.csv')\n",
    "df6 = pd.read_csv('store_lgb_pred_v2.csv')\n",
    "df7 = pd.read_csv('store_xgb_pred.csv')"
   ]
  },
  {
   "cell_type": "code",
   "execution_count": 3,
   "id": "1310ff28",
   "metadata": {},
   "outputs": [],
   "source": [
    "df1_w = pd.melt(df1, id_vars='id')\n",
    "df2_w = pd.melt(df2, id_vars='id')\n",
    "df3_w = pd.melt(df3, id_vars='id')\n",
    "df4_w = pd.melt(df4, id_vars='id')\n",
    "df5_w = pd.melt(df5, id_vars='id')\n",
    "df6_w = pd.melt(df6, id_vars='id')\n",
    "df7_w = pd.melt(df7, id_vars='id')"
   ]
  },
  {
   "cell_type": "code",
   "execution_count": 4,
   "id": "57ecbdb7",
   "metadata": {},
   "outputs": [],
   "source": [
    "df1_w['type'] = df1_w['id'].apply(lambda x: x.split('_')[-1])\n",
    "df2_w['type'] = df2_w['id'].apply(lambda x: x.split('_')[-1])\n",
    "df3_w['type'] = df3_w['id'].apply(lambda x: x.split('_')[-1])\n",
    "df4_w['type'] = df4_w['id'].apply(lambda x: x.split('_')[-1])\n",
    "df5_w['type'] = df5_w['id'].apply(lambda x: x.split('_')[-1])\n",
    "df6_w['type'] = df6_w['id'].apply(lambda x: x.split('_')[-1])\n",
    "df7_w['type'] = df7_w['id'].apply(lambda x: x.split('_')[-1])"
   ]
  },
  {
   "cell_type": "code",
   "execution_count": 5,
   "id": "8940e07a",
   "metadata": {},
   "outputs": [],
   "source": [
    "df1_v = df1_w[df1_w['type']=='validation']\n",
    "df2_v = df2_w[df2_w['type']=='validation']\n",
    "df3_v = df3_w[df3_w['type']=='validation']\n",
    "df4_v = df4_w[df4_w['type']=='validation']\n",
    "df5_v = df5_w[df5_w['type']=='validation']\n",
    "df6_v = df6_w[df6_w['type']=='validation']\n",
    "df7_v = df7_w[df7_w['type']=='validation']\n",
    "\n",
    "df1_t = df1_w[df1_w['type']=='evaluation']\n",
    "df2_t = df2_w[df2_w['type']=='evaluation']\n",
    "df3_t = df3_w[df3_w['type']=='evaluation']\n",
    "df4_t = df4_w[df4_w['type']=='evaluation']\n",
    "df5_t = df5_w[df5_w['type']=='evaluation']\n",
    "df6_t = df6_w[df6_w['type']=='evaluation']\n",
    "df7_t = df7_w[df7_w['type']=='evaluation']"
   ]
  },
  {
   "cell_type": "code",
   "execution_count": 6,
   "id": "7a25eb32",
   "metadata": {},
   "outputs": [],
   "source": [
    "df1_v = df1_v[['id', 'variable', 'value']]\n",
    "df2_v = df2_v[['id', 'variable', 'value']]\n",
    "df3_v = df3_v[['id', 'variable', 'value']]\n",
    "df4_v = df4_v[['id', 'variable', 'value']]\n",
    "df5_v = df5_v[['id', 'variable', 'value']]\n",
    "df6_v = df6_v[['id', 'variable', 'value']]\n",
    "df7_v = df7_v[['id', 'variable', 'value']]\n",
    "\n",
    "df1_t = df1_t[['id', 'variable', 'value']]\n",
    "df2_t = df2_t[['id', 'variable', 'value']]\n",
    "df3_t = df3_t[['id', 'variable', 'value']]\n",
    "df4_t = df4_t[['id', 'variable', 'value']]\n",
    "df5_t = df5_t[['id', 'variable', 'value']]\n",
    "df6_t = df6_t[['id', 'variable', 'value']]\n",
    "df7_t = df7_t[['id', 'variable', 'value']]"
   ]
  },
  {
   "cell_type": "code",
   "execution_count": 7,
   "id": "a0b47be7",
   "metadata": {},
   "outputs": [],
   "source": [
    "df_v = df1_v.merge(df2_v, on=['id', 'variable'])\n",
    "df_v = df_v.merge(df3_v, on=['id', 'variable'])\n",
    "df_v = df_v.merge(df4_v, on=['id', 'variable'])\n",
    "df_v = df_v.merge(df5_v, on=['id', 'variable'])\n",
    "df_v = df_v.merge(df6_v, on=['id', 'variable'])\n",
    "df_v = df_v.merge(df7_v, on=['id', 'variable'])\n",
    "\n",
    "df_t = df1_t.merge(df2_t, on=['id', 'variable'])\n",
    "df_t = df_t.merge(df3_t, on=['id', 'variable'])\n",
    "df_t = df_t.merge(df4_t, on=['id', 'variable'])\n",
    "df_t = df_t.merge(df5_t, on=['id', 'variable'])\n",
    "df_t = df_t.merge(df6_t, on=['id', 'variable'])\n",
    "df_t = df_t.merge(df7_t, on=['id', 'variable'])"
   ]
  },
  {
   "cell_type": "code",
   "execution_count": 8,
   "id": "34790b8e",
   "metadata": {},
   "outputs": [],
   "source": [
    "df_v.columns = ['id', 'variable', 'm1', 'm2', 'm3', 'm4', 'm5', 'm6', 'm7']\n",
    "df_t.columns = ['id', 'variable', 'm1', 'm2', 'm3', 'm4', 'm5', 'm6', 'm7']"
   ]
  },
  {
   "cell_type": "code",
   "execution_count": 9,
   "id": "bf3da604",
   "metadata": {},
   "outputs": [],
   "source": [
    "df_v['d_int'] = df_v['variable'].apply(lambda x:int(x[1:]))\n",
    "df_t['d_int'] = df_t['variable'].apply(lambda x:int(x[1:]))"
   ]
  },
  {
   "cell_type": "code",
   "execution_count": 10,
   "id": "1eae2f66",
   "metadata": {},
   "outputs": [],
   "source": [
    "df_v['d'] = df_v['d_int'].apply(lambda x: 'd_'+str(int(x)+1913))\n",
    "df_t['d'] = df_t['d_int'].apply(lambda x: 'd_'+str(int(x)+1913))"
   ]
  },
  {
   "cell_type": "code",
   "execution_count": 11,
   "id": "9d3977a8",
   "metadata": {},
   "outputs": [],
   "source": [
    "df_v['d_int'] = df_v['d_int'] + 1913\n",
    "df_t['d_int'] = df_t['d_int'] + 1913"
   ]
  },
  {
   "cell_type": "markdown",
   "id": "68c1fb87",
   "metadata": {},
   "source": [
    "Adding ground truth for validation dataset"
   ]
  },
  {
   "cell_type": "code",
   "execution_count": 12,
   "id": "f8137444",
   "metadata": {},
   "outputs": [],
   "source": [
    "gt = pd.read_pickle('base_sales.pkl')"
   ]
  },
  {
   "cell_type": "code",
   "execution_count": 13,
   "id": "e8af141c",
   "metadata": {},
   "outputs": [],
   "source": [
    "gt['d_int'] = gt['d'].apply(lambda x:int(x[2:]))"
   ]
  },
  {
   "cell_type": "code",
   "execution_count": 14,
   "id": "3549ffe4",
   "metadata": {},
   "outputs": [],
   "source": [
    "gta = gt[gt['d_int']>1913]"
   ]
  },
  {
   "cell_type": "code",
   "execution_count": 15,
   "id": "034ddf7a",
   "metadata": {
    "scrolled": true
   },
   "outputs": [],
   "source": [
    "gta = gta[['id', 'd', 'd_int', 'units_sold']]"
   ]
  },
  {
   "cell_type": "code",
   "execution_count": 16,
   "id": "6e7b2efc",
   "metadata": {},
   "outputs": [],
   "source": [
    "gta['id'] = gta['id'].apply(lambda x:x[:-11])"
   ]
  },
  {
   "cell_type": "code",
   "execution_count": 17,
   "id": "bbc46615",
   "metadata": {},
   "outputs": [],
   "source": [
    "gta['id'] = gta['id'].apply(lambda x:x+'_validation')"
   ]
  },
  {
   "cell_type": "code",
   "execution_count": 18,
   "id": "f1006b18",
   "metadata": {},
   "outputs": [],
   "source": [
    "gta['variable'] = gta['d_int'].apply(lambda x:'F'+str(x-1913))"
   ]
  },
  {
   "cell_type": "code",
   "execution_count": 19,
   "id": "88e80e24",
   "metadata": {
    "scrolled": true
   },
   "outputs": [],
   "source": [
    "training_model = df_v.merge(gta, on=['id', 'd', 'd_int', 'variable'])"
   ]
  },
  {
   "cell_type": "code",
   "execution_count": 20,
   "id": "67a8fb92",
   "metadata": {},
   "outputs": [
    {
     "data": {
      "text/html": [
       "<div>\n",
       "<style scoped>\n",
       "    .dataframe tbody tr th:only-of-type {\n",
       "        vertical-align: middle;\n",
       "    }\n",
       "\n",
       "    .dataframe tbody tr th {\n",
       "        vertical-align: top;\n",
       "    }\n",
       "\n",
       "    .dataframe thead th {\n",
       "        text-align: right;\n",
       "    }\n",
       "</style>\n",
       "<table border=\"1\" class=\"dataframe\">\n",
       "  <thead>\n",
       "    <tr style=\"text-align: right;\">\n",
       "      <th></th>\n",
       "      <th>id</th>\n",
       "      <th>variable</th>\n",
       "      <th>m1</th>\n",
       "      <th>m2</th>\n",
       "      <th>m3</th>\n",
       "      <th>m4</th>\n",
       "      <th>m5</th>\n",
       "      <th>m6</th>\n",
       "      <th>m7</th>\n",
       "      <th>d_int</th>\n",
       "      <th>d</th>\n",
       "      <th>units_sold</th>\n",
       "    </tr>\n",
       "  </thead>\n",
       "  <tbody>\n",
       "    <tr>\n",
       "      <th>0</th>\n",
       "      <td>HOBBIES_1_001_CA_1_validation</td>\n",
       "      <td>F1</td>\n",
       "      <td>0.763622</td>\n",
       "      <td>0.822410</td>\n",
       "      <td>0.998859</td>\n",
       "      <td>0.803111</td>\n",
       "      <td>0.766149</td>\n",
       "      <td>0.768833</td>\n",
       "      <td>0.726918</td>\n",
       "      <td>1914</td>\n",
       "      <td>d_1914</td>\n",
       "      <td>0.0</td>\n",
       "    </tr>\n",
       "    <tr>\n",
       "      <th>1</th>\n",
       "      <td>HOBBIES_1_002_CA_1_validation</td>\n",
       "      <td>F1</td>\n",
       "      <td>0.290976</td>\n",
       "      <td>0.252726</td>\n",
       "      <td>0.328968</td>\n",
       "      <td>0.297042</td>\n",
       "      <td>0.273581</td>\n",
       "      <td>0.324216</td>\n",
       "      <td>0.327158</td>\n",
       "      <td>1914</td>\n",
       "      <td>d_1914</td>\n",
       "      <td>0.0</td>\n",
       "    </tr>\n",
       "    <tr>\n",
       "      <th>2</th>\n",
       "      <td>HOBBIES_1_003_CA_1_validation</td>\n",
       "      <td>F1</td>\n",
       "      <td>0.328426</td>\n",
       "      <td>0.481968</td>\n",
       "      <td>0.823130</td>\n",
       "      <td>0.381381</td>\n",
       "      <td>0.440857</td>\n",
       "      <td>0.361297</td>\n",
       "      <td>0.354969</td>\n",
       "      <td>1914</td>\n",
       "      <td>d_1914</td>\n",
       "      <td>0.0</td>\n",
       "    </tr>\n",
       "    <tr>\n",
       "      <th>3</th>\n",
       "      <td>HOBBIES_1_004_CA_1_validation</td>\n",
       "      <td>F1</td>\n",
       "      <td>1.804192</td>\n",
       "      <td>1.606938</td>\n",
       "      <td>2.134121</td>\n",
       "      <td>1.728680</td>\n",
       "      <td>1.657468</td>\n",
       "      <td>1.732153</td>\n",
       "      <td>1.778546</td>\n",
       "      <td>1914</td>\n",
       "      <td>d_1914</td>\n",
       "      <td>0.0</td>\n",
       "    </tr>\n",
       "    <tr>\n",
       "      <th>4</th>\n",
       "      <td>HOBBIES_1_005_CA_1_validation</td>\n",
       "      <td>F1</td>\n",
       "      <td>0.963251</td>\n",
       "      <td>0.955210</td>\n",
       "      <td>1.302828</td>\n",
       "      <td>1.012629</td>\n",
       "      <td>1.083892</td>\n",
       "      <td>0.900793</td>\n",
       "      <td>0.958628</td>\n",
       "      <td>1914</td>\n",
       "      <td>d_1914</td>\n",
       "      <td>1.0</td>\n",
       "    </tr>\n",
       "  </tbody>\n",
       "</table>\n",
       "</div>"
      ],
      "text/plain": [
       "                              id variable        m1        m2        m3  \\\n",
       "0  HOBBIES_1_001_CA_1_validation       F1  0.763622  0.822410  0.998859   \n",
       "1  HOBBIES_1_002_CA_1_validation       F1  0.290976  0.252726  0.328968   \n",
       "2  HOBBIES_1_003_CA_1_validation       F1  0.328426  0.481968  0.823130   \n",
       "3  HOBBIES_1_004_CA_1_validation       F1  1.804192  1.606938  2.134121   \n",
       "4  HOBBIES_1_005_CA_1_validation       F1  0.963251  0.955210  1.302828   \n",
       "\n",
       "         m4        m5        m6        m7  d_int       d  units_sold  \n",
       "0  0.803111  0.766149  0.768833  0.726918   1914  d_1914         0.0  \n",
       "1  0.297042  0.273581  0.324216  0.327158   1914  d_1914         0.0  \n",
       "2  0.381381  0.440857  0.361297  0.354969   1914  d_1914         0.0  \n",
       "3  1.728680  1.657468  1.732153  1.778546   1914  d_1914         0.0  \n",
       "4  1.012629  1.083892  0.900793  0.958628   1914  d_1914         1.0  "
      ]
     },
     "execution_count": 20,
     "metadata": {},
     "output_type": "execute_result"
    }
   ],
   "source": [
    "training_model.head()"
   ]
  },
  {
   "cell_type": "markdown",
   "id": "0842c802",
   "metadata": {},
   "source": [
    "Saving training dataset"
   ]
  },
  {
   "cell_type": "code",
   "execution_count": 21,
   "id": "7ade6bc9",
   "metadata": {},
   "outputs": [],
   "source": [
    "training_model.to_csv('training_model.csv', index=False)"
   ]
  },
  {
   "cell_type": "markdown",
   "id": "791a5e36",
   "metadata": {},
   "source": [
    "### Model building and tuning"
   ]
  },
  {
   "cell_type": "markdown",
   "id": "325a2402",
   "metadata": {},
   "source": [
    "- We used Randomized Search cross validation for hyperparameter tuning\n",
    "- Used XGBoost and Light GBM models"
   ]
  },
  {
   "cell_type": "code",
   "execution_count": 22,
   "id": "0b39e2b8",
   "metadata": {},
   "outputs": [],
   "source": [
    "import xgboost as xgb\n",
    "from xgboost import XGBRegressor\n",
    "from sklearn.model_selection import cross_val_score, train_test_split, cross_val_predict, GridSearchCV, KFold\n",
    "from sklearn.model_selection import RandomizedSearchCV\n",
    "import lightgbm as lgb"
   ]
  },
  {
   "cell_type": "code",
   "execution_count": 23,
   "id": "14e9371a",
   "metadata": {},
   "outputs": [
    {
     "data": {
      "text/html": [
       "<div>\n",
       "<style scoped>\n",
       "    .dataframe tbody tr th:only-of-type {\n",
       "        vertical-align: middle;\n",
       "    }\n",
       "\n",
       "    .dataframe tbody tr th {\n",
       "        vertical-align: top;\n",
       "    }\n",
       "\n",
       "    .dataframe thead th {\n",
       "        text-align: right;\n",
       "    }\n",
       "</style>\n",
       "<table border=\"1\" class=\"dataframe\">\n",
       "  <thead>\n",
       "    <tr style=\"text-align: right;\">\n",
       "      <th></th>\n",
       "      <th>id</th>\n",
       "      <th>variable</th>\n",
       "      <th>m1</th>\n",
       "      <th>m2</th>\n",
       "      <th>m3</th>\n",
       "      <th>m4</th>\n",
       "      <th>m5</th>\n",
       "      <th>m6</th>\n",
       "      <th>m7</th>\n",
       "      <th>d_int</th>\n",
       "      <th>d</th>\n",
       "      <th>units_sold</th>\n",
       "    </tr>\n",
       "  </thead>\n",
       "  <tbody>\n",
       "    <tr>\n",
       "      <th>0</th>\n",
       "      <td>HOBBIES_1_001_CA_1_validation</td>\n",
       "      <td>F1</td>\n",
       "      <td>0.763622</td>\n",
       "      <td>0.822410</td>\n",
       "      <td>0.998859</td>\n",
       "      <td>0.803111</td>\n",
       "      <td>0.766149</td>\n",
       "      <td>0.768833</td>\n",
       "      <td>0.726918</td>\n",
       "      <td>1914</td>\n",
       "      <td>d_1914</td>\n",
       "      <td>0.0</td>\n",
       "    </tr>\n",
       "    <tr>\n",
       "      <th>1</th>\n",
       "      <td>HOBBIES_1_002_CA_1_validation</td>\n",
       "      <td>F1</td>\n",
       "      <td>0.290976</td>\n",
       "      <td>0.252726</td>\n",
       "      <td>0.328968</td>\n",
       "      <td>0.297042</td>\n",
       "      <td>0.273581</td>\n",
       "      <td>0.324216</td>\n",
       "      <td>0.327158</td>\n",
       "      <td>1914</td>\n",
       "      <td>d_1914</td>\n",
       "      <td>0.0</td>\n",
       "    </tr>\n",
       "    <tr>\n",
       "      <th>2</th>\n",
       "      <td>HOBBIES_1_003_CA_1_validation</td>\n",
       "      <td>F1</td>\n",
       "      <td>0.328426</td>\n",
       "      <td>0.481968</td>\n",
       "      <td>0.823130</td>\n",
       "      <td>0.381381</td>\n",
       "      <td>0.440857</td>\n",
       "      <td>0.361297</td>\n",
       "      <td>0.354969</td>\n",
       "      <td>1914</td>\n",
       "      <td>d_1914</td>\n",
       "      <td>0.0</td>\n",
       "    </tr>\n",
       "    <tr>\n",
       "      <th>3</th>\n",
       "      <td>HOBBIES_1_004_CA_1_validation</td>\n",
       "      <td>F1</td>\n",
       "      <td>1.804192</td>\n",
       "      <td>1.606938</td>\n",
       "      <td>2.134121</td>\n",
       "      <td>1.728680</td>\n",
       "      <td>1.657468</td>\n",
       "      <td>1.732153</td>\n",
       "      <td>1.778546</td>\n",
       "      <td>1914</td>\n",
       "      <td>d_1914</td>\n",
       "      <td>0.0</td>\n",
       "    </tr>\n",
       "    <tr>\n",
       "      <th>4</th>\n",
       "      <td>HOBBIES_1_005_CA_1_validation</td>\n",
       "      <td>F1</td>\n",
       "      <td>0.963251</td>\n",
       "      <td>0.955210</td>\n",
       "      <td>1.302828</td>\n",
       "      <td>1.012629</td>\n",
       "      <td>1.083892</td>\n",
       "      <td>0.900793</td>\n",
       "      <td>0.958628</td>\n",
       "      <td>1914</td>\n",
       "      <td>d_1914</td>\n",
       "      <td>1.0</td>\n",
       "    </tr>\n",
       "  </tbody>\n",
       "</table>\n",
       "</div>"
      ],
      "text/plain": [
       "                              id variable        m1        m2        m3  \\\n",
       "0  HOBBIES_1_001_CA_1_validation       F1  0.763622  0.822410  0.998859   \n",
       "1  HOBBIES_1_002_CA_1_validation       F1  0.290976  0.252726  0.328968   \n",
       "2  HOBBIES_1_003_CA_1_validation       F1  0.328426  0.481968  0.823130   \n",
       "3  HOBBIES_1_004_CA_1_validation       F1  1.804192  1.606938  2.134121   \n",
       "4  HOBBIES_1_005_CA_1_validation       F1  0.963251  0.955210  1.302828   \n",
       "\n",
       "         m4        m5        m6        m7  d_int       d  units_sold  \n",
       "0  0.803111  0.766149  0.768833  0.726918   1914  d_1914         0.0  \n",
       "1  0.297042  0.273581  0.324216  0.327158   1914  d_1914         0.0  \n",
       "2  0.381381  0.440857  0.361297  0.354969   1914  d_1914         0.0  \n",
       "3  1.728680  1.657468  1.732153  1.778546   1914  d_1914         0.0  \n",
       "4  1.012629  1.083892  0.900793  0.958628   1914  d_1914         1.0  "
      ]
     },
     "execution_count": 23,
     "metadata": {},
     "output_type": "execute_result"
    }
   ],
   "source": [
    "training_model.head()"
   ]
  },
  {
   "cell_type": "code",
   "execution_count": 24,
   "id": "d0e7f89f",
   "metadata": {},
   "outputs": [
    {
     "data": {
      "text/html": [
       "<div>\n",
       "<style scoped>\n",
       "    .dataframe tbody tr th:only-of-type {\n",
       "        vertical-align: middle;\n",
       "    }\n",
       "\n",
       "    .dataframe tbody tr th {\n",
       "        vertical-align: top;\n",
       "    }\n",
       "\n",
       "    .dataframe thead th {\n",
       "        text-align: right;\n",
       "    }\n",
       "</style>\n",
       "<table border=\"1\" class=\"dataframe\">\n",
       "  <thead>\n",
       "    <tr style=\"text-align: right;\">\n",
       "      <th></th>\n",
       "      <th>id</th>\n",
       "      <th>variable</th>\n",
       "      <th>m1</th>\n",
       "      <th>m2</th>\n",
       "      <th>m3</th>\n",
       "      <th>m4</th>\n",
       "      <th>m5</th>\n",
       "      <th>m6</th>\n",
       "      <th>m7</th>\n",
       "      <th>d_int</th>\n",
       "      <th>d</th>\n",
       "    </tr>\n",
       "  </thead>\n",
       "  <tbody>\n",
       "    <tr>\n",
       "      <th>0</th>\n",
       "      <td>HOBBIES_1_001_CA_1_evaluation</td>\n",
       "      <td>F1</td>\n",
       "      <td>0.777035</td>\n",
       "      <td>0.825341</td>\n",
       "      <td>1.209278</td>\n",
       "      <td>0.767291</td>\n",
       "      <td>0.712727</td>\n",
       "      <td>0.701686</td>\n",
       "      <td>0.624720</td>\n",
       "      <td>1914</td>\n",
       "      <td>d_1914</td>\n",
       "    </tr>\n",
       "    <tr>\n",
       "      <th>1</th>\n",
       "      <td>HOBBIES_1_002_CA_1_evaluation</td>\n",
       "      <td>F1</td>\n",
       "      <td>0.213887</td>\n",
       "      <td>0.281647</td>\n",
       "      <td>0.422702</td>\n",
       "      <td>0.215666</td>\n",
       "      <td>0.212461</td>\n",
       "      <td>0.233253</td>\n",
       "      <td>0.216344</td>\n",
       "      <td>1914</td>\n",
       "      <td>d_1914</td>\n",
       "    </tr>\n",
       "    <tr>\n",
       "      <th>2</th>\n",
       "      <td>HOBBIES_1_003_CA_1_evaluation</td>\n",
       "      <td>F1</td>\n",
       "      <td>0.435674</td>\n",
       "      <td>0.504139</td>\n",
       "      <td>0.839649</td>\n",
       "      <td>0.519991</td>\n",
       "      <td>0.541638</td>\n",
       "      <td>0.431166</td>\n",
       "      <td>0.508959</td>\n",
       "      <td>1914</td>\n",
       "      <td>d_1914</td>\n",
       "    </tr>\n",
       "    <tr>\n",
       "      <th>3</th>\n",
       "      <td>HOBBIES_1_004_CA_1_evaluation</td>\n",
       "      <td>F1</td>\n",
       "      <td>1.694604</td>\n",
       "      <td>1.453415</td>\n",
       "      <td>1.804767</td>\n",
       "      <td>1.651264</td>\n",
       "      <td>1.510755</td>\n",
       "      <td>1.726345</td>\n",
       "      <td>1.582032</td>\n",
       "      <td>1914</td>\n",
       "      <td>d_1914</td>\n",
       "    </tr>\n",
       "    <tr>\n",
       "      <th>4</th>\n",
       "      <td>HOBBIES_1_005_CA_1_evaluation</td>\n",
       "      <td>F1</td>\n",
       "      <td>1.193925</td>\n",
       "      <td>0.988548</td>\n",
       "      <td>1.249720</td>\n",
       "      <td>1.146886</td>\n",
       "      <td>1.119197</td>\n",
       "      <td>1.127674</td>\n",
       "      <td>1.142516</td>\n",
       "      <td>1914</td>\n",
       "      <td>d_1914</td>\n",
       "    </tr>\n",
       "  </tbody>\n",
       "</table>\n",
       "</div>"
      ],
      "text/plain": [
       "                              id variable        m1        m2        m3  \\\n",
       "0  HOBBIES_1_001_CA_1_evaluation       F1  0.777035  0.825341  1.209278   \n",
       "1  HOBBIES_1_002_CA_1_evaluation       F1  0.213887  0.281647  0.422702   \n",
       "2  HOBBIES_1_003_CA_1_evaluation       F1  0.435674  0.504139  0.839649   \n",
       "3  HOBBIES_1_004_CA_1_evaluation       F1  1.694604  1.453415  1.804767   \n",
       "4  HOBBIES_1_005_CA_1_evaluation       F1  1.193925  0.988548  1.249720   \n",
       "\n",
       "         m4        m5        m6        m7  d_int       d  \n",
       "0  0.767291  0.712727  0.701686  0.624720   1914  d_1914  \n",
       "1  0.215666  0.212461  0.233253  0.216344   1914  d_1914  \n",
       "2  0.519991  0.541638  0.431166  0.508959   1914  d_1914  \n",
       "3  1.651264  1.510755  1.726345  1.582032   1914  d_1914  \n",
       "4  1.146886  1.119197  1.127674  1.142516   1914  d_1914  "
      ]
     },
     "execution_count": 24,
     "metadata": {},
     "output_type": "execute_result"
    }
   ],
   "source": [
    "df_t.head()"
   ]
  },
  {
   "cell_type": "code",
   "execution_count": 25,
   "id": "420b4d81",
   "metadata": {
    "scrolled": true
   },
   "outputs": [],
   "source": [
    "# Spliting the data\n",
    "X = training_model.iloc[:, 2:10]\n",
    "Y = training_model.iloc[:, 11]"
   ]
  },
  {
   "cell_type": "markdown",
   "id": "91f1da40",
   "metadata": {},
   "source": [
    "#### XGBoost Model"
   ]
  },
  {
   "cell_type": "markdown",
   "id": "07630d73",
   "metadata": {},
   "source": [
    "###### Hyperparameter tuning:\n",
    "\n",
    "1. n_estimators – Number of boosted trees to fit\n",
    "2. max_depth - limits the number of nodes in the tree and the best value depends on the interaction of the input variables\n",
    "3. learning_rate - how much the contribution of each tree will shrink\n",
    "4. min_child_weight - minimum sum of instance weight (hessian) needed in a child\n",
    "5. booster - booster you have chosen"
   ]
  },
  {
   "cell_type": "code",
   "execution_count": 1,
   "id": "e5c0f447",
   "metadata": {
    "scrolled": true
   },
   "outputs": [],
   "source": [
    "# Set up possible values of parameters to optimize over\n",
    "booster=['gbtree','gblinear']\n",
    "base_score=[0.25,0.5,0.75,1]\n",
    "n_estimators = [100, 500, 900, 1100, 1500]\n",
    "max_depth = [2, 3, 5, 10, 15]\n",
    "learning_rate=[0.05,0.1,0.15,0.20]\n",
    "min_child_weight=[1,2,3,4]\n",
    "\n",
    "# Define the grid of hyperparameters to search\n",
    "param_grid = {\n",
    "    'n_estimators': n_estimators,\n",
    "    'booster':booster,\n",
    "    'base_score':base_score,\n",
    "    'max_depth':max_depth,\n",
    "    'learning_rate':learning_rate,\n",
    "    'min_child_weight':min_child_weight\n",
    "    }\n",
    "\n",
    "clf = XGBRegressor()\n",
    "\n",
    "grid_search = RandomizedSearchCV(clf, param_grid, cv=5, scoring='neg_root_mean_squared_error')\n",
    "\n",
    "grid_search.fit(X, Y)\n",
    "grid_search.best_estimator_"
   ]
  },
  {
   "cell_type": "code",
   "execution_count": 29,
   "id": "d9b2f56b",
   "metadata": {},
   "outputs": [],
   "source": [
    "# We start with initializing our classifier. \n",
    "clf = XGBRegressor(base_score=0.5, booster='gbtree', callbacks=None,\n",
    "             colsample_bylevel=1, colsample_bynode=1, colsample_bytree=1,\n",
    "             early_stopping_rounds=None, enable_categorical=False,\n",
    "             eval_metric=None, feature_types=None, gamma=0, gpu_id=-1,\n",
    "             grow_policy='depthwise', importance_type=None,\n",
    "             interaction_constraints='', learning_rate=0.05, max_bin=256,\n",
    "             max_cat_threshold=64, max_cat_to_onehot=4, max_delta_step=0,\n",
    "             max_depth=5, max_leaves=0, min_child_weight=1, missing=np.nan,\n",
    "             monotone_constraints='()', n_estimators=500, n_jobs=0,\n",
    "             num_parallel_tree=1, predictor='auto', random_state=0)"
   ]
  },
  {
   "cell_type": "markdown",
   "id": "78b21a76",
   "metadata": {},
   "source": [
    "#### Light GBM Model"
   ]
  },
  {
   "cell_type": "markdown",
   "id": "76ef5654",
   "metadata": {},
   "source": [
    "###### Hyperparameter tuning:\n",
    "\n",
    "1. Boosting_type – ‘gbdt’, traditional Gradient Boosting Decision Tree. ‘dart’, Dropouts meet Multiple Additive Regression Trees. ‘goss’, Gradient-based One-Side Sampling. ‘rf’, Random Forest\n",
    "\n",
    "2. Num_leaves – Maximum tree leaves for base learners\n",
    "\n",
    "3. Max_depth – Maximum tree depth for base learners, <=0 means no limit\n",
    "\n",
    "4. Learning_rate – Boosting learning rate\n",
    "\n",
    "5. n_estimators – Number of boosted trees to fit\n",
    "\n",
    "6. Min_child_weight – Minimum sum of instance weight (Hessian) needed in a child (leaf)"
   ]
  },
  {
   "cell_type": "code",
   "execution_count": 30,
   "id": "15c3104a",
   "metadata": {},
   "outputs": [
    {
     "data": {
      "text/plain": [
       "LGBMRegressor(boosting_type='goss', learning_rate=0.12, max_depth=9,\n",
       "              min_child_weight=100, n_estimators=60, num_leaves=20)"
      ]
     },
     "execution_count": 30,
     "metadata": {},
     "output_type": "execute_result"
    }
   ],
   "source": [
    "# Set up possible values of parameters to optimize over\n",
    "boosting_type=['gbdt','dart', 'goss', 'rf']\n",
    "num_leaves=[5,10,15,20,25]\n",
    "max_depth=[3,5,7,9,11]\n",
    "learning_rate=[0.01, 0.03, 0.06, 0.09, 0.12]\n",
    "n_estimators=[20,40,60,80,100,120]\n",
    "min_child_weight=[0.001, 0.01, 0.1, 1, 10, 100]\n",
    "\n",
    "# Define the grid of hyperparameters to search\n",
    "param_grid = {\n",
    "    'boosting_type': boosting_type,\n",
    "    'num_leaves':num_leaves,\n",
    "    'max_depth':max_depth,\n",
    "    'learning_rate':learning_rate,\n",
    "    'n_estimators':n_estimators,\n",
    "    'min_child_weight':min_child_weight\n",
    "    }\n",
    "\n",
    "clf = lgb.LGBMRegressor()\n",
    "\n",
    "grid_search = RandomizedSearchCV(clf, param_grid, cv=5, scoring='neg_root_mean_squared_error')\n",
    "\n",
    "grid_search.fit(X, Y)\n",
    "grid_search.best_estimator_"
   ]
  },
  {
   "cell_type": "code",
   "execution_count": 31,
   "id": "6b456166",
   "metadata": {},
   "outputs": [],
   "source": [
    "# We start with initializing our classifier. \n",
    "clf = lgb.LGBMRegressor(boosting_type='goss', learning_rate=0.12, max_depth=9,\n",
    "              min_child_weight=100, n_estimators=60, num_leaves=20)"
   ]
  },
  {
   "cell_type": "markdown",
   "id": "9c75c553",
   "metadata": {},
   "source": [
    "Fitting the data"
   ]
  },
  {
   "cell_type": "code",
   "execution_count": 32,
   "id": "1e275561",
   "metadata": {},
   "outputs": [],
   "source": [
    "clf = clf.fit(X,Y)"
   ]
  },
  {
   "cell_type": "markdown",
   "id": "f9f0be62",
   "metadata": {},
   "source": [
    "Making prediction"
   ]
  },
  {
   "cell_type": "code",
   "execution_count": 33,
   "id": "e158c4f5",
   "metadata": {},
   "outputs": [],
   "source": [
    "# Spliting for testing:\n",
    "Z = df_t.iloc[:, 2:10]"
   ]
  },
  {
   "cell_type": "code",
   "execution_count": 34,
   "id": "456570e7",
   "metadata": {},
   "outputs": [],
   "source": [
    "y_pred = clf.predict(Z)"
   ]
  },
  {
   "cell_type": "code",
   "execution_count": 35,
   "id": "85dd465a",
   "metadata": {},
   "outputs": [],
   "source": [
    "df_t['units_sold'] = y_pred"
   ]
  },
  {
   "cell_type": "code",
   "execution_count": 36,
   "id": "34b36553",
   "metadata": {},
   "outputs": [],
   "source": [
    "sub = df_t[['id', 'variable', 'units_sold']]"
   ]
  },
  {
   "cell_type": "code",
   "execution_count": 37,
   "id": "d6ef8ffe",
   "metadata": {},
   "outputs": [
    {
     "data": {
      "text/html": [
       "<div>\n",
       "<style scoped>\n",
       "    .dataframe tbody tr th:only-of-type {\n",
       "        vertical-align: middle;\n",
       "    }\n",
       "\n",
       "    .dataframe tbody tr th {\n",
       "        vertical-align: top;\n",
       "    }\n",
       "\n",
       "    .dataframe thead th {\n",
       "        text-align: right;\n",
       "    }\n",
       "</style>\n",
       "<table border=\"1\" class=\"dataframe\">\n",
       "  <thead>\n",
       "    <tr style=\"text-align: right;\">\n",
       "      <th></th>\n",
       "      <th>id</th>\n",
       "      <th>variable</th>\n",
       "      <th>units_sold</th>\n",
       "    </tr>\n",
       "  </thead>\n",
       "  <tbody>\n",
       "    <tr>\n",
       "      <th>0</th>\n",
       "      <td>FOODS_1_001_CA_1_validation</td>\n",
       "      <td>F1</td>\n",
       "      <td>0.667769</td>\n",
       "    </tr>\n",
       "    <tr>\n",
       "      <th>1</th>\n",
       "      <td>FOODS_1_001_CA_1_validation</td>\n",
       "      <td>F1</td>\n",
       "      <td>0.833985</td>\n",
       "    </tr>\n",
       "    <tr>\n",
       "      <th>2</th>\n",
       "      <td>FOODS_1_001_CA_2_validation</td>\n",
       "      <td>F1</td>\n",
       "      <td>0.877909</td>\n",
       "    </tr>\n",
       "    <tr>\n",
       "      <th>3</th>\n",
       "      <td>FOODS_1_001_CA_2_validation</td>\n",
       "      <td>F1</td>\n",
       "      <td>0.888873</td>\n",
       "    </tr>\n",
       "    <tr>\n",
       "      <th>4</th>\n",
       "      <td>FOODS_1_001_CA_3_validation</td>\n",
       "      <td>F1</td>\n",
       "      <td>0.637286</td>\n",
       "    </tr>\n",
       "  </tbody>\n",
       "</table>\n",
       "</div>"
      ],
      "text/plain": [
       "                            id variable  units_sold\n",
       "0  FOODS_1_001_CA_1_validation       F1    0.667769\n",
       "1  FOODS_1_001_CA_1_validation       F1    0.833985\n",
       "2  FOODS_1_001_CA_2_validation       F1    0.877909\n",
       "3  FOODS_1_001_CA_2_validation       F1    0.888873\n",
       "4  FOODS_1_001_CA_3_validation       F1    0.637286"
      ]
     },
     "execution_count": 37,
     "metadata": {},
     "output_type": "execute_result"
    }
   ],
   "source": [
    "df2_w['id'] = df2_w['id'].apply(lambda x:x[:-11])\n",
    "df2_w['id'] = df2_w['id'].apply(lambda x:x + '_validation')\n",
    "df2_w = df2_w[['id', 'variable', 'value']]\n",
    "df2_w.columns = ['id', 'variable', 'units_sold']\n",
    "sub2 = df2_w\n",
    "sub2.head()"
   ]
  },
  {
   "cell_type": "code",
   "execution_count": 38,
   "id": "fd268904",
   "metadata": {},
   "outputs": [],
   "source": [
    "ss = pd.concat([sub, sub2])"
   ]
  },
  {
   "cell_type": "code",
   "execution_count": 39,
   "id": "b69e4a06",
   "metadata": {},
   "outputs": [],
   "source": [
    "subW = pd.pivot_table(ss, index=['id'],\n",
    "              columns=['variable']).reset_index()"
   ]
  },
  {
   "cell_type": "code",
   "execution_count": 40,
   "id": "34505782",
   "metadata": {},
   "outputs": [],
   "source": [
    "subW.columns = ['id', 'F1', 'F2', 'F3', 'F4', 'F5', 'F6', 'F7', 'F8', 'F9', 'F10', 'F11', 'F12', 'F13', 'F14', 'F15', 'F16',\n",
    "                'F17', 'F18', 'F19', 'F20', 'F21', 'F22', 'F23', 'F24', 'F25', 'F26', 'F27', 'F28']"
   ]
  },
  {
   "cell_type": "code",
   "execution_count": 41,
   "id": "4b434335",
   "metadata": {},
   "outputs": [
    {
     "data": {
      "text/html": [
       "<div>\n",
       "<style scoped>\n",
       "    .dataframe tbody tr th:only-of-type {\n",
       "        vertical-align: middle;\n",
       "    }\n",
       "\n",
       "    .dataframe tbody tr th {\n",
       "        vertical-align: top;\n",
       "    }\n",
       "\n",
       "    .dataframe thead th {\n",
       "        text-align: right;\n",
       "    }\n",
       "</style>\n",
       "<table border=\"1\" class=\"dataframe\">\n",
       "  <thead>\n",
       "    <tr style=\"text-align: right;\">\n",
       "      <th></th>\n",
       "      <th>id</th>\n",
       "      <th>F1</th>\n",
       "      <th>F2</th>\n",
       "      <th>F3</th>\n",
       "      <th>F4</th>\n",
       "      <th>F5</th>\n",
       "      <th>F6</th>\n",
       "      <th>F7</th>\n",
       "      <th>F8</th>\n",
       "      <th>F9</th>\n",
       "      <th>...</th>\n",
       "      <th>F19</th>\n",
       "      <th>F20</th>\n",
       "      <th>F21</th>\n",
       "      <th>F22</th>\n",
       "      <th>F23</th>\n",
       "      <th>F24</th>\n",
       "      <th>F25</th>\n",
       "      <th>F26</th>\n",
       "      <th>F27</th>\n",
       "      <th>F28</th>\n",
       "    </tr>\n",
       "  </thead>\n",
       "  <tbody>\n",
       "    <tr>\n",
       "      <th>0</th>\n",
       "      <td>FOODS_1_001_CA_1_evaluation</td>\n",
       "      <td>0.478523</td>\n",
       "      <td>0.534348</td>\n",
       "      <td>0.414144</td>\n",
       "      <td>0.933272</td>\n",
       "      <td>0.949845</td>\n",
       "      <td>0.749429</td>\n",
       "      <td>0.642199</td>\n",
       "      <td>0.579755</td>\n",
       "      <td>0.543261</td>\n",
       "      <td>...</td>\n",
       "      <td>0.594517</td>\n",
       "      <td>0.711089</td>\n",
       "      <td>0.721609</td>\n",
       "      <td>0.469540</td>\n",
       "      <td>0.522296</td>\n",
       "      <td>0.622431</td>\n",
       "      <td>0.697918</td>\n",
       "      <td>0.546335</td>\n",
       "      <td>0.475311</td>\n",
       "      <td>0.502994</td>\n",
       "    </tr>\n",
       "    <tr>\n",
       "      <th>1</th>\n",
       "      <td>FOODS_1_001_CA_1_validation</td>\n",
       "      <td>0.750877</td>\n",
       "      <td>0.863970</td>\n",
       "      <td>0.656228</td>\n",
       "      <td>1.184584</td>\n",
       "      <td>1.169438</td>\n",
       "      <td>0.914786</td>\n",
       "      <td>0.876346</td>\n",
       "      <td>0.852332</td>\n",
       "      <td>0.791866</td>\n",
       "      <td>...</td>\n",
       "      <td>0.818680</td>\n",
       "      <td>0.953143</td>\n",
       "      <td>0.841315</td>\n",
       "      <td>0.690597</td>\n",
       "      <td>0.715093</td>\n",
       "      <td>0.840486</td>\n",
       "      <td>0.932053</td>\n",
       "      <td>0.901149</td>\n",
       "      <td>0.801450</td>\n",
       "      <td>0.899201</td>\n",
       "    </tr>\n",
       "    <tr>\n",
       "      <th>2</th>\n",
       "      <td>FOODS_1_001_CA_2_evaluation</td>\n",
       "      <td>0.613527</td>\n",
       "      <td>1.350456</td>\n",
       "      <td>0.849205</td>\n",
       "      <td>1.411943</td>\n",
       "      <td>1.387238</td>\n",
       "      <td>1.180179</td>\n",
       "      <td>1.222913</td>\n",
       "      <td>1.460685</td>\n",
       "      <td>1.322387</td>\n",
       "      <td>...</td>\n",
       "      <td>1.069855</td>\n",
       "      <td>1.013084</td>\n",
       "      <td>0.925004</td>\n",
       "      <td>0.658377</td>\n",
       "      <td>0.797145</td>\n",
       "      <td>0.631974</td>\n",
       "      <td>0.841140</td>\n",
       "      <td>0.883675</td>\n",
       "      <td>1.333359</td>\n",
       "      <td>0.890640</td>\n",
       "    </tr>\n",
       "    <tr>\n",
       "      <th>3</th>\n",
       "      <td>FOODS_1_001_CA_2_validation</td>\n",
       "      <td>0.883391</td>\n",
       "      <td>1.110109</td>\n",
       "      <td>0.968824</td>\n",
       "      <td>1.183642</td>\n",
       "      <td>1.316519</td>\n",
       "      <td>1.227837</td>\n",
       "      <td>1.083409</td>\n",
       "      <td>1.194896</td>\n",
       "      <td>1.113735</td>\n",
       "      <td>...</td>\n",
       "      <td>0.995352</td>\n",
       "      <td>1.218162</td>\n",
       "      <td>1.139178</td>\n",
       "      <td>0.903968</td>\n",
       "      <td>0.893613</td>\n",
       "      <td>0.830530</td>\n",
       "      <td>1.189422</td>\n",
       "      <td>1.280150</td>\n",
       "      <td>1.169404</td>\n",
       "      <td>1.006378</td>\n",
       "    </tr>\n",
       "    <tr>\n",
       "      <th>4</th>\n",
       "      <td>FOODS_1_001_CA_3_evaluation</td>\n",
       "      <td>0.367909</td>\n",
       "      <td>0.444788</td>\n",
       "      <td>0.578945</td>\n",
       "      <td>0.575849</td>\n",
       "      <td>0.850895</td>\n",
       "      <td>1.415541</td>\n",
       "      <td>0.476489</td>\n",
       "      <td>0.339994</td>\n",
       "      <td>0.459453</td>\n",
       "      <td>...</td>\n",
       "      <td>0.863357</td>\n",
       "      <td>0.985784</td>\n",
       "      <td>1.462307</td>\n",
       "      <td>0.420665</td>\n",
       "      <td>0.407006</td>\n",
       "      <td>0.726849</td>\n",
       "      <td>1.038272</td>\n",
       "      <td>1.276933</td>\n",
       "      <td>0.806201</td>\n",
       "      <td>0.521896</td>\n",
       "    </tr>\n",
       "  </tbody>\n",
       "</table>\n",
       "<p>5 rows × 29 columns</p>\n",
       "</div>"
      ],
      "text/plain": [
       "                            id        F1        F2        F3        F4  \\\n",
       "0  FOODS_1_001_CA_1_evaluation  0.478523  0.534348  0.414144  0.933272   \n",
       "1  FOODS_1_001_CA_1_validation  0.750877  0.863970  0.656228  1.184584   \n",
       "2  FOODS_1_001_CA_2_evaluation  0.613527  1.350456  0.849205  1.411943   \n",
       "3  FOODS_1_001_CA_2_validation  0.883391  1.110109  0.968824  1.183642   \n",
       "4  FOODS_1_001_CA_3_evaluation  0.367909  0.444788  0.578945  0.575849   \n",
       "\n",
       "         F5        F6        F7        F8        F9  ...       F19       F20  \\\n",
       "0  0.949845  0.749429  0.642199  0.579755  0.543261  ...  0.594517  0.711089   \n",
       "1  1.169438  0.914786  0.876346  0.852332  0.791866  ...  0.818680  0.953143   \n",
       "2  1.387238  1.180179  1.222913  1.460685  1.322387  ...  1.069855  1.013084   \n",
       "3  1.316519  1.227837  1.083409  1.194896  1.113735  ...  0.995352  1.218162   \n",
       "4  0.850895  1.415541  0.476489  0.339994  0.459453  ...  0.863357  0.985784   \n",
       "\n",
       "        F21       F22       F23       F24       F25       F26       F27  \\\n",
       "0  0.721609  0.469540  0.522296  0.622431  0.697918  0.546335  0.475311   \n",
       "1  0.841315  0.690597  0.715093  0.840486  0.932053  0.901149  0.801450   \n",
       "2  0.925004  0.658377  0.797145  0.631974  0.841140  0.883675  1.333359   \n",
       "3  1.139178  0.903968  0.893613  0.830530  1.189422  1.280150  1.169404   \n",
       "4  1.462307  0.420665  0.407006  0.726849  1.038272  1.276933  0.806201   \n",
       "\n",
       "        F28  \n",
       "0  0.502994  \n",
       "1  0.899201  \n",
       "2  0.890640  \n",
       "3  1.006378  \n",
       "4  0.521896  \n",
       "\n",
       "[5 rows x 29 columns]"
      ]
     },
     "execution_count": 41,
     "metadata": {},
     "output_type": "execute_result"
    }
   ],
   "source": [
    "subW.head()"
   ]
  },
  {
   "cell_type": "markdown",
   "id": "8f2a2a46",
   "metadata": {},
   "source": [
    "Saving submission file"
   ]
  },
  {
   "cell_type": "code",
   "execution_count": 42,
   "id": "32438c94",
   "metadata": {},
   "outputs": [],
   "source": [
    "subW.to_csv('submissionF.csv', index=False)"
   ]
  },
  {
   "cell_type": "code",
   "execution_count": null,
   "id": "ce213e4d",
   "metadata": {},
   "outputs": [],
   "source": []
  }
 ],
 "metadata": {
  "kernelspec": {
   "display_name": "Python 3.10.5 64-bit",
   "language": "python",
   "name": "python3"
  },
  "language_info": {
   "codemirror_mode": {
    "name": "ipython",
    "version": 3
   },
   "file_extension": ".py",
   "mimetype": "text/x-python",
   "name": "python",
   "nbconvert_exporter": "python",
   "pygments_lexer": "ipython3",
   "version": "3.10.5"
  },
  "vscode": {
   "interpreter": {
    "hash": "5290aa75faf23a16319909e19adc2cd8a2a5bf93f1976f81386266c3c2bf7942"
   }
  }
 },
 "nbformat": 4,
 "nbformat_minor": 5
}
